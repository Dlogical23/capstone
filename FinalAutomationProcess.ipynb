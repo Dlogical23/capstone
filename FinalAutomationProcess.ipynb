{
  "cells": [
    {
      "cell_type": "markdown",
      "metadata": {
        "id": "view-in-github",
        "colab_type": "text"
      },
      "source": [
        "<a href=\"https://colab.research.google.com/github/Dlogical23/capstone/blob/main/FinalAutomationProcess.ipynb\" target=\"_parent\"><img src=\"https://colab.research.google.com/assets/colab-badge.svg\" alt=\"Open In Colab\"/></a>"
      ]
    },
    {
      "cell_type": "code",
      "execution_count": 1,
      "metadata": {
        "colab": {
          "base_uri": "https://localhost:8080/"
        },
        "id": "-Txj7Vsq7eMv",
        "outputId": "abb0ed24-9085-41a3-9c43-5769abb1888a"
      },
      "outputs": [
        {
          "output_type": "stream",
          "name": "stdout",
          "text": [
            "Mounted at /content/drive\n"
          ]
        }
      ],
      "source": [
        "# Load the Drive helper and mount\n",
        "from google.colab import drive\n",
        "\n",
        "# This will prompt for authorization.\n",
        "drive.mount('/content/drive')"
      ]
    },
    {
      "cell_type": "code",
      "execution_count": null,
      "metadata": {
        "colab": {
          "base_uri": "https://localhost:8080/"
        },
        "id": "GqKPLM947byn",
        "outputId": "548e913c-7943-4bdb-8ef2-69675b115bbe"
      },
      "outputs": [
        {
          "output_type": "stream",
          "name": "stdout",
          "text": [
            "Requirement already satisfied: scikit-learn in /usr/local/lib/python3.11/dist-packages (1.6.1)\n",
            "Requirement already satisfied: h5py in /usr/local/lib/python3.11/dist-packages (3.12.1)\n",
            "Requirement already satisfied: pandas in /usr/local/lib/python3.11/dist-packages (2.2.2)\n",
            "Requirement already satisfied: numpy in /usr/local/lib/python3.11/dist-packages (1.26.4)\n",
            "Requirement already satisfied: scipy>=1.6.0 in /usr/local/lib/python3.11/dist-packages (from scikit-learn) (1.13.1)\n",
            "Requirement already satisfied: joblib>=1.2.0 in /usr/local/lib/python3.11/dist-packages (from scikit-learn) (1.4.2)\n",
            "Requirement already satisfied: threadpoolctl>=3.1.0 in /usr/local/lib/python3.11/dist-packages (from scikit-learn) (3.5.0)\n",
            "Requirement already satisfied: python-dateutil>=2.8.2 in /usr/local/lib/python3.11/dist-packages (from pandas) (2.9.0.post0)\n",
            "Requirement already satisfied: pytz>=2020.1 in /usr/local/lib/python3.11/dist-packages (from pandas) (2025.1)\n",
            "Requirement already satisfied: tzdata>=2022.7 in /usr/local/lib/python3.11/dist-packages (from pandas) (2025.1)\n",
            "Requirement already satisfied: six>=1.5 in /usr/local/lib/python3.11/dist-packages (from python-dateutil>=2.8.2->pandas) (1.17.0)\n",
            "Dataset shape: (11164866, 128)\n",
            "Normalized dataset shape: (11164866, 128)\n",
            "✅ Model results saved successfully!\n"
          ]
        }
      ],
      "source": [
        "# Step 1: Install Required Libraries\n",
        "!pip install scikit-learn h5py pandas numpy\n",
        "\n",
        "# Step 2: Load the Dataset\n",
        "import h5py\n",
        "import numpy as np\n",
        "\n",
        "file_path = '/content/drive/MyDrive/SIFT10M/extracted/SIFT10M/SIFT10Mfeatures.mat'\n",
        "with h5py.File(file_path, 'r') as f:\n",
        "    features = f['fea'][()]  # Replace 'SIFT10Mfeatures' with the correct key if needed\n",
        "    print(f\"Dataset shape: {features.shape}\")\n",
        "import numpy as np\n",
        "labels = np.random.randint(0, 10, size=features.shape[0])\n",
        "\n",
        "# Step 3: Preprocess the Data\n",
        "from sklearn.preprocessing import StandardScaler\n",
        "\n",
        "scaler = StandardScaler()\n",
        "features_normalized = scaler.fit_transform(features)\n",
        "print(f\"Normalized dataset shape: {features_normalized.shape}\")\n",
        "\n",
        "# Step 4: Define Modeling Techniques\n",
        "from sklearn.cluster import KMeans, DBSCAN\n",
        "from sklearn.ensemble import RandomForestClassifier\n",
        "from sklearn.linear_model import LogisticRegression\n",
        "from sklearn.svm import SVC\n",
        "from sklearn.model_selection import train_test_split\n",
        "from sklearn.metrics import accuracy_score, silhouette_score\n",
        "\n",
        "models = {\n",
        "    \"KMeans\": KMeans(n_clusters=10, random_state=42),\n",
        "    \"DBSCAN\": DBSCAN(eps=0.5, min_samples=5),\n",
        "    \"RandomForest\": RandomForestClassifier(n_estimators=100, random_state=42),\n",
        "    \"LogisticRegression\": LogisticRegression(max_iter=1000, random_state=42),\n",
        "    \"SVM\": SVC(kernel='linear', random_state=42),\n",
        "}\n",
        "\n",
        "# Step 5: Automate the Testing Process\n",
        "import pandas as pd\n",
        "\n",
        "X_train, X_test, y_train, y_test = train_test_split(\n",
        "    features_normalized, labels, test_size=0.2, random_state=42\n",
        ")\n",
        "\n",
        "# Example results dictionary (Modify this based on your actual results)\n",
        "results = [\n",
        "    {\"Model\": \"KMeans\", \"Metric\": \"Silhouette Score\", \"Score\": 0.72},\n",
        "    {\"Model\": \"DBSCAN\", \"Metric\": \"Silhouette Score\", \"Score\": 0.68}\n",
        "]\n",
        "\n",
        "# ✅ Convert results into a DataFrame\n",
        "results_df = pd.DataFrame(results)\n",
        "\n",
        "# ✅ Save to CSV\n",
        "results_df.to_csv('/content/drive/MyDrive/SIFT10M/model_results.csv', index=False)\n",
        "\n",
        "print(\"✅ Model results saved successfully!\")\n",
        "\n",
        "\n",
        "import numpy as np\n",
        "from sklearn.metrics import silhouette_score\n",
        "from sklearn.decomposition import PCA\n",
        "\n",
        "# Step 1: Reduce dimensionality for faster calculations\n",
        "pca = PCA(n_components=50)  # Reduce to 50D\n",
        "features_reduced = pca.fit_transform(features_normalized)\n",
        "\n",
        "# Step 2: Sample data to reduce processing time\n",
        "sample_size = min(10000, len(features_reduced))  # Limit sample size\n",
        "indices = np.random.choice(len(features_reduced), sample_size, replace=False)\n",
        "sample_features = features_reduced[indices]\n",
        "\n",
        "# Initialize model and model_name before using them\n",
        "model_name = \"KMeans\" # You should replace this with the actual model name\n",
        "model = models[model_name] # Get the model from the 'models' dictionary\n",
        "model.fit(features_normalized) # Fit the model to your data if it's a clustering model\n",
        "sample_labels = model.labels_[indices] # Now you can access model.labels_\n",
        "\n",
        "# Step 3: Compute silhouette score efficiently\n",
        "if model_name == \"DBSCAN\":\n",
        "    if len(np.unique(model.labels_)) > 1:\n",
        "        score = silhouette_score(sample_features, sample_labels, metric=\"cosine\")\n",
        "    else:\n",
        "        score = 0  # Handle the case where there's only one cluster\n",
        "else:\n",
        "    score = silhouette_score(sample_features, sample_labels, metric=\"cosine\")\n",
        "\n",
        "# Store results\n",
        "results.append({\"Model\": model_name, \"Metric\": \"Silhouette Score\", \"Score\": score})\n",
        "\n",
        "\n",
        "#This section was outside of any loop, so I put it in a loop to demonstrate how to use it.\n",
        "#Replace the following with your actual model iteration.\n",
        "for model_name, model in models.items():\n",
        "    if model_name in [\"KMeans\", \"DBSCAN\"]:\n",
        "        continue # skip clustering models in this loop\n",
        "    else:  # Classification models\n",
        "        model.fit(X_train, y_train)\n",
        "        y_pred = model.predict(X_test)\n",
        "        accuracy = accuracy_score(y_test, y_pred)\n",
        "        results.append({\"Model\": model_name, \"Metric\": \"Accuracy\", \"Score\": accuracy})\n",
        "\n",
        "results_df = pd.DataFrame(results)\n",
        "print(results_df)\n",
        "\n",
        "# Step 6: Save Results\n",
        "results_df.to_csv('/content/drive/MyDrive/SIFT10M/model_results.csv', index=False)\n",
        "\n",
        "# Step 7: Visualize Results\n",
        "import matplotlib.pyplot as plt\n",
        "import seaborn as sns\n",
        "\n",
        "plt.figure(figsize=(10, 6))\n",
        "sns.barplot(x=\"Model\", y=\"Score\", hue=\"Metric\", data=results_df)\n",
        "plt.title(\"Model Performance Comparison\")\n",
        "plt.xlabel(\"Model\")\n",
        "plt.ylabel(\"Score\")\n",
        "plt.xticks(rotation=45)\n",
        "plt.show()"
      ]
    },
    {
      "cell_type": "code",
      "source": [
        "# Load the results from the CSV file\n",
        "import pandas as pd\n",
        "import matplotlib.pyplot as plt\n",
        "import seaborn as sns\n",
        "\n",
        "# Define file path\n",
        "results_file = \"/content/drive/MyDrive/SIFT10M/model_results.csv\"\n",
        "\n",
        "# Load the results\n",
        "results_df = pd.read_csv(results_file)"
      ],
      "metadata": {
        "id": "WFZiprBiax2w"
      },
      "execution_count": 3,
      "outputs": []
    },
    {
      "cell_type": "code",
      "source": [
        "import matplotlib.pyplot as plt\n",
        "import seaborn as sns\n",
        "\n",
        "plt.figure(figsize=(10, 6))\n",
        "sns.barplot(x=\"Model\", y=\"Score\", hue=\"Metric\", data=results_df)\n",
        "plt.title(\"Model Performance Comparison\")\n",
        "plt.xlabel(\"Model\")\n",
        "plt.ylabel(\"Score\")\n",
        "plt.xticks(rotation=45)\n",
        "plt.show()"
      ],
      "metadata": {
        "colab": {
          "base_uri": "https://localhost:8080/",
          "height": 479
        },
        "id": "ihOuBaNVa8SS",
        "outputId": "5292400b-7307-4a2b-8c67-70c3647e659d"
      },
      "execution_count": 4,
      "outputs": [
        {
          "output_type": "display_data",
          "data": {
            "text/plain": [
              "<Figure size 1000x600 with 1 Axes>"
            ],
            "image/png": "[encoded data removed]"
          },
          "metadata": {}
        }
      ]
    }
  ],
  "metadata": {
    "accelerator": "TPU",
    "colab": {
      "gpuType": "V28",
      "provenance": [],
      "authorship_tag": "ABX9TyMoUqh3MNMzc5SnTkOcydkW",
      "include_colab_link": true
    },
    "kernelspec": {
      "display_name": "Python 3",
      "name": "python3"
    },
    "language_info": {
      "name": "python"
    }
  },
  "nbformat": 4,
  "nbformat_minor": 0
}