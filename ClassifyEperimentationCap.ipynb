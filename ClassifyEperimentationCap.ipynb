{
  "nbformat": 4,
  "nbformat_minor": 0,
  "metadata": {
    "colab": {
      "provenance": [],
      "authorship_tag": "ABX9TyODmK9FAGSEKvot/9kJwsG2",
      "include_colab_link": true
    },
    "kernelspec": {
      "name": "python3",
      "display_name": "Python 3"
    },
    "language_info": {
      "name": "python"
    }
  },
  "cells": [
    {
      "cell_type": "markdown",
      "metadata": {
        "id": "view-in-github",
        "colab_type": "text"
      },
      "source": [
        "<a href=\"https://colab.research.google.com/github/Dlogical23/capstone/blob/main/ClassifyEperimentationCap.ipynb\" target=\"_parent\"><img src=\"https://colab.research.google.com/assets/colab-badge.svg\" alt=\"Open In Colab\"/></a>"
      ]
    },
    {
      "cell_type": "markdown",
      "source": [
        "*This is the prime data set\n",
        "\n",
        "SIFT is an algorithm that helps locate the local features in an image, commonly known as the 'keypoints' of the image. These keypoints are scale & rotation invariants that can be used for various computer vision applications, like image matching, object detection, scene detection, etc."
      ],
      "metadata": {
        "id": "r1e__ZlMBIpJ"
      }
    },
    {
      "cell_type": "code",
      "execution_count": null,
      "metadata": {
        "id": "BglptBy0jBhj"
      },
      "outputs": [],
      "source": [
        "# Load the Drive helper and mount\n",
        "from google.colab import drive\n",
        "\n",
        "# This will prompt for authorization.\n",
        "drive.mount('/content/drive')"
      ]
    },
    {
      "cell_type": "code",
      "source": [
        "import tarfile\n",
        "\n",
        "# Path to your tar.gz file\n",
        "file_path = '/content/drive/MyDrive/SIFT10M/SIFT10M.tar.gz'\n",
        "\n",
        "# Path to the directory where you want to extract the files\n",
        "extract_path = '/content/drive/MyDrive/SIFT10M'\n",
        "\n",
        "# Open the tar.gz file\n",
        "with tarfile.open(file_path, 'r:gz') as tar_ref:\n",
        "    # Extract all files to the specified directory\n",
        "    tar_ref.extractall(extract_path)"
      ],
      "metadata": {
        "id": "v3c43giMkA7j"
      },
      "execution_count": null,
      "outputs": []
    },
    {
      "cell_type": "markdown",
      "source": [
        "[SIFT10M dataset](https://www.archive.ics.uci.edu/dataset/353/sift10m)"
      ],
      "metadata": {
        "id": "V7pRM1zjMbjA"
      }
    },
    {
      "cell_type": "code",
      "source": [
        "# prompt: inspect the first 5 rows of the .tar.gz file\n",
        "\n",
        "from google.colab import drive\n",
        "import tarfile\n",
        "import os\n",
        "\n",
        "# Now inspect the first 5 rows (assuming they're in a text file)\n",
        "# Replace 'your_extracted_file.txt' with the actual name of your file\n",
        "extracted_file_path = os.path.join(extract_path, 'your_extracted_file.txt')  # Replace with actual file name\n",
        "try:\n",
        "    with open('/content/drive/MyDrive/SIFT10M/SIFT10M.tar.gz', 'r') as f:\n",
        "        for i in range(5):\n",
        "            line = f.readline()\n",
        "            if not line:\n",
        "                break  # Stop if the file has fewer than 5 lines\n",
        "            print(line.strip()) # Print the line, removing leading/trailing whitespace\n",
        "except FileNotFoundError:\n",
        "    print(f\"File not found at: {'/content/drive/MyDrive/SIFT10M/SIFT10M.tar.gz'}\")\n",
        "except Exception as e:\n",
        "    print(f\"An error occurred: {e}\")"
      ],
      "metadata": {
        "id": "BHpwKUtV0Dlw"
      },
      "execution_count": null,
      "outputs": []
    },
    {
      "cell_type": "code",
      "source": [
        "# Now inspect the first 5 rows (assuming they're in a text file)\n",
        "extracted_file_path = os.path.join(extract_path, '/content/drive/MyDrive/SIFT10M/SIFT10M.tar.gz')  # Replace with actual file name\n",
        "try:\n",
        "    with open('/content/drive/MyDrive/SIFT10M/SIFT10M.tar.gz', 'r') as f:\n",
        "        for i in range(5):\n",
        "            line = f.readline()\n",
        "            if not line:\n",
        "                break  # Stop if the file has fewer than 5 lines\n",
        "            print(line.strip()) # Print the line, removing leading/trailing whitespace\n",
        "except FileNotFoundError:\n",
        "    print(f\"File not found at: {'/content/drive/MyDrive/SIFT10M/SIFT10M.tar.gz'}\")\n",
        "except Exception as e:\n",
        "    print(f\"An error occurred: {e}\")"
      ],
      "metadata": {
        "id": "DvDMTA0s0f4L"
      },
      "execution_count": null,
      "outputs": []
    },
    {
      "cell_type": "code",
      "source": [
        "import os\n",
        "\n",
        "# Define the path to the tar.gz file\n",
        "tar_path = \"/content/drive/MyDrive/SIFT10M/SIFT10M.tar.gz\"\n",
        "\n",
        "# Define the extraction path\n",
        "extract_path = \"/content/drive/MyDrive/SIFT10M/extracted/\"\n",
        "\n",
        "# Ensure the extraction path exists\n",
        "os.makedirs(extract_path, exist_ok=True)\n",
        "\n",
        "# Extract the tar.gz file\n",
        "try:\n",
        "    with tarfile.open(tar_path, \"r:gz\") as tar:\n",
        "        tar.extractall(path=extract_path)\n",
        "        print(f\"Extracted files to: {extract_path}\")\n",
        "except Exception as e:\n",
        "    print(f\"An error occurred while extracting: {e}\")\n",
        "\n",
        "# List the extracted files\n",
        "extracted_files = os.listdir(extract_path)\n",
        "print(\"Extracted files:\", extracted_files)\n",
        "\n",
        "# Read the first 5 lines from one of the extracted text files (assuming a .txt or .csv file exists)\n",
        "for file in extracted_files:\n",
        "    file_path = os.path.join(extract_path, file)\n",
        "\n",
        "    # Check if it's a text file before reading\n",
        "    if file.endswith(\".txt\") or file.endswith(\".csv\"):\n",
        "        try:\n",
        "            with open(file_path, \"r\", encoding=\"utf-8\", errors=\"replace\") as f:\n",
        "                print(\"\\nFirst 5 lines of\", file_path)\n",
        "                for _ in range(5):\n",
        "                    print(f.readline().strip())\n",
        "            break  # Stop after reading the first valid file\n",
        "        except Exception as e:\n",
        "            print(f\"Could not read {file}: {e}\")"
      ],
      "metadata": {
        "id": "lNN0m4Q-MkwJ"
      },
      "execution_count": null,
      "outputs": []
    },
    {
      "cell_type": "code",
      "source": [
        "import h5py\n",
        "\n",
        "# Load the .mat file using h5py\n",
        "file_path = '/content/drive/MyDrive/SIFT10M/extracted/SIFT10M/SIFT10Mfeatures.mat'\n",
        "with h5py.File(file_path, 'r') as file:\n",
        "    # Access the correct dataset. 'fea' is a common dataset name in .mat files.\n",
        "    # If 'fea' doesn't exist, inspect the file's contents to find the correct name\n",
        "    features = file['fea'][:]\n",
        "\n",
        "# View the first 5 rows\n",
        "print(features[:5])"
      ],
      "metadata": {
        "colab": {
          "base_uri": "https://localhost:8080/"
        },
        "id": "R6GDztqTQ71T",
        "outputId": "20cc2d4f-a39e-4a07-af30-2c290bb813e1"
      },
      "execution_count": null,
      "outputs": [
        {
          "output_type": "stream",
          "name": "stdout",
          "text": [
            "[[ 55  23  21  15  43 100 116  63 101  17   5   1   1  12  60 117  33  80\n",
            "   19   3   3  15  53  48  46  46   3   0   2   8  35  57  47  39  51  19\n",
            "   14  19  70  54  73  29   9   2   3  60 117  75 117  48   8   3  14  31\n",
            "  117 117  21  10   1   2  32  74 117  69  21   2   2  10  72  36  78  52\n",
            "   72  36  55   8   7  26  57  68 117  61  33   4  24   8   7  26  19   4\n",
            "    0   2  59  32   8   5   5   0   0   1  27   2   0   7   8   2   1   0\n",
            "    0   0   0  10   0   1   1   0   0   0   0   0   0   0   0   0   0   0\n",
            "    0   0]\n",
            " [  0   0   0   0   0   0   2  10  41  22   5   0   0   0  50 123  82  64\n",
            "   28   0   0   8  53  73  95  77  40   1   0   2   7  16   1   1   2   0\n",
            "    0   0   0   2 115  51  28   0   0   0   1  37 130 119  41   0   0   0\n",
            "    0  40  64  85  63  28   2   0   7  23   1   3   3   0   0   0   0   3\n",
            "   54  65  65   0   0   0   2  57 130  57  11   0   0   0   9 128  98  24\n",
            "   13  13   1   0  22  79   4   0   0   0   0   0   0   4  73   1   0   0\n",
            "    0   1   7  82 108   2   0   0   0   1  11 130 124  16   0   0   0   6\n",
            "   23  89]\n",
            " [  0   0   0   0   0   0   0   0   9  14  25  13   4   6   2   0  38  31\n",
            "   24  17   8   4   3   9  40  39   8  14  12   2   2   6   0   0   0   0\n",
            "    1  63  21   0   9   3  14  14  10 125 105  17 125  54  20   8   0  17\n",
            "   57  75  37  58  14  21  31   7   6   3   2   6   0   0   3 125  87   0\n",
            "   52  47  25   0   1 125  56   8 125  61   8   0   0   8  27  65  30   5\n",
            "    4   5  24  55  73  16   3  81  79   7  13  45   6   0  10 125 125   1\n",
            "    0   2   2   0  35 125  68   2   1   0   2  10   2  18  28  24 125 125\n",
            "    8   3]\n",
            " [  0   2   0  12 137  81   0   0  74   8   1  30 115  19   0  16 137  20\n",
            "    0   0   0   0   0  21   4   0   0   0   0   0   0   0   0   0  14  56\n",
            "  137  24   0   0  59  11  43 117  74  17   0  14 137  26   8   8   1   4\n",
            "    5  59  27   0   0   0   1   7   5   9  25  30  32  35  43  23  10  22\n",
            "   21  42 137 137   9   0   0   0  77  72  63  48  29  25  10   9   6   1\n",
            "    4  15  23  24   9   5 137  22   0   0   0   2  10 137  18  10  14  35\n",
            "   29   6  28  25   0   1  23  74  61  15  11   2   1   1  23  30   7   7\n",
            "    4   4]\n",
            " [ 19   7  16   3   3  10  69  21  33  59  17   5  16   7   4   5  53  20\n",
            "   10   7  35  36  62 104  82   6   0   0   0   9  61 114  61  69  38   3\n",
            "    1   0  18  19 114  57  22  25  16   2   1  14  24  47 114 104  47  19\n",
            "    9  14 114 114  50   4   0   1   4  33  10  19  45  32  58  10   4   8\n",
            "  114  52  24   8   6   4   5  56  54  67 101  17   2   0   0   5  55  96\n",
            "   38   1   1   0   0  17   0   6 114  45  15   1   6   1  58 114  97  27\n",
            "    1   0   2   6  27  74  25  58  22   2   2   4  64  24   6  15   6   1\n",
            "    1  15]]\n"
          ]
        }
      ]
    },
    {
      "cell_type": "code",
      "source": [
        "import h5py\n",
        "\n",
        "file_path = \"SIFT10Mfeatures.mat\"  # Ensure this is the correct path\n",
        "\n",
        "with h5py.File('/content/drive/MyDrive/SIFT10M/extracted/SIFT10M/SIFT10Mfeatures.mat', 'r') as file:\n",
        "    print(\"Available datasets in the file:\")\n",
        "    print(list(file.keys()))  # List all dataset names\n"
      ],
      "metadata": {
        "id": "zFGwZjKpSYGY"
      },
      "execution_count": null,
      "outputs": []
    },
    {
      "cell_type": "code",
      "source": [
        "# prompt: Count the frequency of the positive target\n",
        "\n",
        "import h5py\n",
        "import numpy as np\n",
        "\n",
        "file_path = '/content/drive/MyDrive/SIFT10M/extracted/SIFT10M/SIFT10Mfeatures.mat'\n",
        "\n",
        "with h5py.File(file_path, 'r') as file:\n",
        "    # Access the correct dataset.  'fea' is used based on previous code.\n",
        "    #  You may need to change this if the actual name is different.\n",
        "    features = file['fea'][:]\n",
        "\n",
        "# Count the frequency of positive targets. Assuming the target is the first element of each feature.\n",
        "positive_targets = np.sum(features[:, 0] > 0) #counts where first element is greater than zero\n",
        "\n",
        "print(f\"Number of positive targets: {positive_targets}\")\n"
      ],
      "metadata": {
        "id": "BS1e8mM8uyZy"
      },
      "execution_count": null,
      "outputs": []
    },
    {
      "cell_type": "code",
      "source": [
        "# prompt: Summary statistics for features\n",
        "\n",
        "import h5py\n",
        "import numpy as np\n",
        "\n",
        "file_path = '/content/drive/MyDrive/SIFT10M/extracted/SIFT10M/SIFT10Mfeatures.mat'\n",
        "\n",
        "with h5py.File(file_path, 'r') as file:\n",
        "    features = file['fea'][:]\n",
        "\n"
      ],
      "metadata": {
        "id": "0MRMeFT_xTF7"
      },
      "execution_count": null,
      "outputs": []
    },
    {
      "cell_type": "code",
      "source": [
        "import numpy as np\n",
        "\n",
        "#Calculate summary statistics\n",
        "mean_values = np.mean(features, axis=0)\n",
        "min_values = np.min(features, axis=0)\n",
        "max_values = np.max(features, axis=0)\n",
        "median_values = np.median(features, axis=0)\n",
        "\n",
        "print(\"Summary Statistics:\")\n",
        "print(\"Mean:\", mean_values)\n",
        "print(\"Minimum:\", min_values)\n",
        "print(\"Maximum:\", max_values)\n",
        "print(\"Median:\", median_values)"
      ],
      "metadata": {
        "id": "-rPGHEpt7xNe"
      },
      "execution_count": null,
      "outputs": []
    },
    {
      "cell_type": "code",
      "source": [
        "# prompt: Pairplot for the first few features and the target\n",
        "\n",
        "import matplotlib.pyplot as plt\n",
        "import seaborn as sns\n",
        "\n",
        "# Assuming 'features' is your NumPy array with the data\n",
        "# and the target variable is the first column (features[:, 0])\n",
        "\n",
        "# Select the first few features (e.g., the first 5) for the pairplot\n",
        "num_features_to_plot = 5  # You can change this\n",
        "features_to_plot = features[:, :num_features_to_plot]\n",
        "\n",
        "# Create a DataFrame for easier plotting with seaborn\n",
        "import pandas as pd\n",
        "df = pd.DataFrame(features_to_plot)\n",
        "df['target'] = features[:, 0]  # Assuming the target variable is in the first column\n",
        "\n",
        "\n",
        "# Create the pairplot\n",
        "sns.pairplot(df, vars=df.columns[:-1], hue='target') #hue='target' for coloring points based on target\n",
        "plt.show()\n"
      ],
      "metadata": {
        "id": "PQxCZwsH9pdv"
      },
      "execution_count": null,
      "outputs": []
    },
    {
      "cell_type": "code",
      "source": [
        "import matplotlib.pyplot as plt\n",
        "import seaborn as sns\n",
        "\n",
        "# Assuming 'features' is your NumPy array with the data\n",
        "# and the target variable is the first column (features[:, 0])\n",
        "\n",
        "# Select the first few features (e.g., the first 5) for the pairplot\n",
        "num_features_to_plot = 5  # You can change this\n",
        "features_to_plot = features[:, :num_features_to_plot]"
      ],
      "metadata": {
        "id": "1uhUT-cLIYZ7"
      },
      "execution_count": null,
      "outputs": []
    },
    {
      "cell_type": "code",
      "source": [
        "# Create a DataFrame for easier plotting with seaborn\n",
        "import pandas as pd\n",
        "df = pd.DataFrame(features_to_plot)\n",
        "df['target'] = features[:, 0]  # Assuming the target variable is in the first column\n",
        "\n",
        "\n",
        "# Create the pairplot\n",
        "sns.pairplot(df, vars=df.columns[:-1], hue='target') #hue='target' for coloring points based on target\n",
        "plt.show()"
      ],
      "metadata": {
        "id": "Z9O5CBGcPm6r"
      },
      "execution_count": null,
      "outputs": []
    },
    {
      "cell_type": "code",
      "source": [
        "import matplotlib.pyplot as plt\n",
        "import seaborn as sns\n",
        "\n",
        "# Assuming 'features' is your NumPy array with the data\n",
        "# and the target variable is the first column (features[:, 0])\n",
        "\n",
        "# Select the first few features (e.g., the first 5) for the pairplot\n",
        "num_features_to_plot = 5  # You can change this\n",
        "features_to_plot = features[:, :num_features_to_plot]\n",
        "\n",
        "# Select the first few features (e.g., the first 5) for the pairplot\n",
        "num_features_to_plot = 5  # You can change this\n",
        "features_to_plot = features[:, :num_features_to_plot]\n",
        "\n",
        "import pandas as pd\n",
        "df = pd.DataFrame(features_to_plot)\n",
        "df['target'] = features[:, 0]"
      ],
      "metadata": {
        "id": "13dtzlFh1YO6"
      },
      "execution_count": null,
      "outputs": []
    },
    {
      "cell_type": "code",
      "source": [
        "# Create the pairplot\n",
        "sns.pairplot(df, vars=df.columns[:-1], hue='target') #hue='target' for coloring points based on target\n",
        "plt.show()"
      ],
      "metadata": {
        "id": "n9VOiG6S25GX"
      },
      "execution_count": null,
      "outputs": []
    },
    {
      "cell_type": "code",
      "source": [
        "import pandas as pd\n",
        "\n",
        "# Correlation matrix\n",
        "corr = df.corr()\n",
        "\n",
        "# Plot the heatmap\n",
        "plt.figure(figsize=(17, 8))\n",
        "sns.heatmap(corr, annot=True, cmap='coolwarm', fmt='.2f')\n",
        "plt.show()"
      ],
      "metadata": {
        "colab": {
          "base_uri": "https://localhost:8080/",
          "height": 380
        },
        "id": "JtAnYVhz-6-x",
        "outputId": "0fcc8849-1e97-459b-9620-9321ac8a3164"
      },
      "execution_count": null,
      "outputs": [
        {
          "output_type": "display_data",
          "data": {
            "text/plain": [
              "<Figure size 1700x800 with 2 Axes>"
            ],
            "image/png": "[encoded data removed]"
          },
          "metadata": {}
        }
      ]
    },
    {
      "cell_type": "code",
      "source": [
        "# Boxplot for the first feature (column 0) grouped by 'target'\n",
        "sns.boxplot(x='target', y=0, data=df)  # Use 0 instead of 'mean radius'\n",
        "plt.show()"
      ],
      "metadata": {
        "colab": {
          "base_uri": "https://localhost:8080/",
          "height": 449
        },
        "id": "dSrBiconGwnP",
        "outputId": "b680ebbb-d325-4fb2-fc97-06e2ffb406ff"
      },
      "execution_count": null,
      "outputs": [
        {
          "output_type": "display_data",
          "data": {
            "text/plain": [
              "<Figure size 640x480 with 1 Axes>"
            ],
            "image/png": "[encoded data removed]"
          },
          "metadata": {}
        }
      ]
    },
    {
      "cell_type": "markdown",
      "source": [],
      "metadata": {
        "id": "N3VUt6zUKcfk"
      }
    }
  ]
}