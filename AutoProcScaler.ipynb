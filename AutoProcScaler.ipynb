{
  "nbformat": 4,
  "nbformat_minor": 0,
  "metadata": {
    "colab": {
      "provenance": [],
      "gpuType": "V28",
      "authorship_tag": "ABX9TyNHa3YWDzAd6N9pTYFyOpG4",
      "include_colab_link": true
    },
    "kernelspec": {
      "name": "python3",
      "display_name": "Python 3"
    },
    "language_info": {
      "name": "python"
    },
    "accelerator": "TPU"
  },
  "cells": [
    {
      "cell_type": "markdown",
      "metadata": {
        "id": "view-in-github",
        "colab_type": "text"
      },
      "source": [
        "<a href=\"https://colab.research.google.com/github/Dlogical23/capstone/blob/main/AutoProcScaler.ipynb\" target=\"_parent\"><img src=\"https://colab.research.google.com/assets/colab-badge.svg\" alt=\"Open In Colab\"/></a>"
      ]
    },
    {
      "cell_type": "code",
      "source": [
        "# Load the Drive helper and mount\n",
        "from google.colab import drive\n",
        "\n",
        "# This will prompt for authorization.\n",
        "drive.mount('/content/drive')"
      ],
      "metadata": {
        "colab": {
          "base_uri": "https://localhost:8080/"
        },
        "id": "aKPS_CG5_GMZ",
        "outputId": "4a172fc9-5cfc-4d17-be99-5c773eb4945f"
      },
      "execution_count": 1,
      "outputs": [
        {
          "output_type": "stream",
          "name": "stdout",
          "text": [
            "Mounted at /content/drive\n"
          ]
        }
      ]
    },
    {
      "cell_type": "code",
      "source": [
        "!pip install dask==2024.10.0 dask-ml==2024.2.0\n",
        "!pip install importlib-metadata\n",
        "import importlib.metadata as metadata\n",
        "\n",
        "# Removing the invalid line\n",
        "# import lib_metadata>=4.13.0; python_version < \"3.12\"'), {'dask'})\n",
        "\n",
        "# Step 1: Install Required Libraries\n",
        "!pip install dask dask-ml scikit-learn h5py pandas numpy\n",
        "\n",
        "# Step 2: Load the Dataset Using Dask\n",
        "import dask.array as da\n",
        "import h5py\n",
        "\n",
        "file_path = '/content/drive/MyDrive/SIFT10M/extracted/SIFT10M/SIFT10Mfeatures.mat'\n",
        "with h5py.File(file_path, 'r') as f:\n",
        "    features = f['fea'][()]  # Replace 'SIFT10Mfeatures' with the correct key if needed\n",
        "\n",
        "features_dask = da.from_array(features, chunks='auto')\n",
        "print(f\"Dataset shape: {features_dask.shape}\")\n",
        "\n",
        "# Step 3: Preprocess the Data Using Dask\n",
        "from dask_ml.preprocessing import StandardScaler\n",
        "\n",
        "scaler = StandardScaler()\n",
        "features_normalized_dask = scaler.fit_transform(features_dask)\n",
        "print(f\"Normalized dataset shape: {features_normalized_dask.shape}\")\n",
        "\n",
        "# Step 4: Define Modeling Techniques\n",
        "from dask_ml.linear_model import LogisticRegression\n",
        "# Instead of importing directly, use Incremental\n",
        "from dask_ml.wrappers import Incremental\n",
        "from sklearn.ensemble import RandomForestClassifier\n",
        "from dask_ml.cluster import KMeans\n",
        "from dask_ml.model_selection import train_test_split\n",
        "from dask.distributed import Client  # Import Client\n",
        "\n",
        "# Wrap LogisticRegression with Incremental for partial_fit\n",
        "models = {\n",
        "    \"LogisticRegression\": LogisticRegression(),  # LogisticRegression doesn't need Incremental\n",
        "    # Remove the Incremental wrapper\n",
        "    \"RandomForest\": RandomForestClassifier(n_estimators=100),\n",
        "    \"KMeans\": KMeans(n_clusters=10), # KMeans doesn't need Incremental\n",
        "}\n",
        "\n",
        "\n",
        "# Step 2: Load the Dataset Using Dask\n",
        "import dask.array as da\n",
        "import h5py\n",
        "import numpy as np # Import numpy here\n",
        "\n",
        "file_path = '/content/drive/MyDrive/SIFT10M/extracted/SIFT10M/SIFT10Mfeatures.mat'\n",
        "with h5py.File(file_path, 'r') as f:\n",
        "    features = f['fea'][()]  # Replace 'SIFT10Mfeatures' with the correct key if needed\n",
        "\n",
        "features_dask = da.from_array(features, chunks='auto')\n",
        "print(f\"Dataset shape: {features_dask.shape}\")\n",
        "\n",
        "# Step 3: Preprocess the Data Using Dask\n",
        "from dask_ml.preprocessing import StandardScaler\n",
        "\n",
        "scaler = StandardScaler()\n",
        "features_normalized_dask = scaler.fit_transform(features_dask)\n",
        "print(f\"Normalized dataset shape: {features_normalized_dask.shape}\")\n",
        "\n",
        "# ... (rest of the code) ...\n",
        "\n",
        "# ✅ Step 2: Use Smaller Sample for Faster Training\n",
        "sample_size = 100000  # Reduce dataset size for speed\n",
        "features_sample = features_dask[:sample_size].persist()  # Persist in memory\n",
        "\n",
        "# ✅ Ensure labels_sample is of integer type and uses the same chunks as features_sample\n",
        "# Updated line to create labels_sample with appropriate chunks and data type\n",
        "labels_sample = da.from_array(np.random.randint(0, 10, size=sample_size, dtype=np.int32), chunks=(features_sample.chunks[0],))\n",
        "\n",
        "# ✅ Step 3: Efficient Train-Test Split\n",
        "X_train, X_test, y_train, y_test = train_test_split(features_sample, labels_sample, test_size=0.2, random_state=42)\n",
        "\n",
        "# ✅ Step 4: Optimize Model Fitting (Use Incremental Learning)\n",
        "results = []\n",
        "import numpy as np  # Import numpy\n",
        "from dask_ml.metrics import accuracy_score  # Import accuracy_score\n",
        "\n",
        "for model_name, model in models.items():\n",
        "    print(f\"Training and evaluating {model_name}...\")\n",
        "\n",
        "    # Fit the model directly if it doesn't have partial_fit\n",
        "    # This is specifically for LogisticRegression in this case\n",
        "    if not hasattr(model, 'partial_fit'):\n",
        "        # Fit the model directly using Dask arrays\n",
        "        model.fit(X_train, y_train)\n",
        "\n",
        "    else:  # Use Incremental for models with partial_fit\n",
        "        model.fit(X_train, y_train)  # Train incrementally\n",
        "\n",
        "    y_pred = model.predict(X_test)\n",
        "\n",
        "    # ✅ Optimize Accuracy Calculation\n",
        "    accuracy = accuracy_score(y_test, y_pred)  # Removed .compute()\n",
        "\n",
        "    results.append({\"Model\": model_name, \"Accuracy\": accuracy})\n",
        "\n",
        "# ✅ Step 5: Save and Print Results\n",
        "import pandas as pd # Import pandas\n",
        "results_df = pd.DataFrame(results)\n",
        "print(results_df)\n",
        "results_df.to_csv(\"/content/drive/MyDrive/SIFT10M/model_results.csv\", index=False)\n",
        "\n",
        "# Step 7: Visualize Results\n",
        "import matplotlib.pyplot as plt\n",
        "import seaborn as sns\n",
        "\n",
        "plt.figure(figsize=(10, 6))\n",
        "sns.barplot(x=\"Model\", y=\"Accuracy\", data=results_df)\n",
        "plt.title(\"Model Performance Comparison\")\n",
        "plt.xlabel(\"Model\")\n",
        "plt.ylabel(\"Accuracy\")\n",
        "plt.xticks(rotation=45)\n",
        "plt.show()\n",
        "# %%\n",
        "# Load the results from the CSV file\n",
        "import pandas as pd\n",
        "import matplotlib.pyplot as plt\n",
        "import seaborn as sns\n",
        "\n",
        "# Define file path\n",
        "results_file = \"/content/drive/MyDrive/SIFT10M/model_results.csv\"\n",
        "\n",
        "# Load the results\n",
        "results_df = pd.read_csv(results_file)\n",
        "# %%\n",
        "# Load the results from the CSV file\n",
        "import pandas as pd\n",
        "import matplotlib.pyplot as plt\n",
        "import seaborn as sns\n",
        "\n",
        "# Define file path\n",
        "results_file = \"/content/drive/MyDrive/SIFT10M/model_results.csv\"\n",
        "\n",
        "# Load the results\n",
        "results_df = pd.read_csv(results_file)"
      ],
      "metadata": {
        "colab": {
          "base_uri": "https://localhost:8080/",
          "height": 1000
        },
        "id": "x397oc7ZuH5F",
        "outputId": "ea9f26d8-96d3-4d98-8ad1-c68dbd7e3ac5"
      },
      "execution_count": 2,
      "outputs": [
        {
          "output_type": "stream",
          "name": "stdout",
          "text": [
            "Collecting dask==2024.10.0\n",
            "  Using cached dask-2024.10.0-py3-none-any.whl.metadata (3.7 kB)\n",
            "\u001b[31mERROR: Ignored the following yanked versions: 2021.1.22\u001b[0m\u001b[31m\n",
            "\u001b[0m\u001b[31mERROR: Could not find a version that satisfies the requirement dask-ml==2024.2.0 (from versions: 0.2.0, 0.2.1, 0.2.2, 0.2.3, 0.3.0, 0.3.1, 0.3.2, 0.4.0, 0.4.1, 0.6.0, 0.7.0, 0.8.0, 0.9.0, 0.10.0, 0.11.0, 0.12.0, 0.13.0, 1.0.0, 1.1.0, 1.1.1, 1.2.0, 1.3.0, 1.4.0, 1.5.0, 1.6.0, 1.7.0, 1.8.0, 1.9.0, 2021.10.17, 2021.11.16, 2021.11.30, 2022.1.22, 2022.5.27, 2023.3.24, 2024.3.20, 2024.4.4, 2025.1.0)\u001b[0m\u001b[31m\n",
            "\u001b[0m\u001b[31mERROR: No matching distribution found for dask-ml==2024.2.0\u001b[0m\u001b[31m\n",
            "\u001b[0mRequirement already satisfied: importlib-metadata in /usr/local/lib/python3.11/dist-packages (8.6.1)\n",
            "Requirement already satisfied: zipp>=3.20 in /usr/local/lib/python3.11/dist-packages (from importlib-metadata) (3.21.0)\n",
            "Requirement already satisfied: dask in /usr/local/lib/python3.11/dist-packages (2025.2.0)\n",
            "Requirement already satisfied: dask-ml in /usr/local/lib/python3.11/dist-packages (2025.1.0)\n",
            "Requirement already satisfied: scikit-learn in /usr/local/lib/python3.11/dist-packages (1.6.1)\n",
            "Requirement already satisfied: h5py in /usr/local/lib/python3.11/dist-packages (3.13.0)\n",
            "Requirement already satisfied: pandas in /usr/local/lib/python3.11/dist-packages (2.2.2)\n",
            "Requirement already satisfied: numpy in /usr/local/lib/python3.11/dist-packages (1.26.4)\n",
            "Requirement already satisfied: click>=8.1 in /usr/local/lib/python3.11/dist-packages (from dask) (8.1.8)\n",
            "Requirement already satisfied: cloudpickle>=3.0.0 in /usr/local/lib/python3.11/dist-packages (from dask) (3.1.1)\n",
            "Requirement already satisfied: fsspec>=2021.09.0 in /usr/local/lib/python3.11/dist-packages (from dask) (2025.2.0)\n",
            "Requirement already satisfied: packaging>=20.0 in /usr/local/lib/python3.11/dist-packages (from dask) (24.2)\n",
            "Requirement already satisfied: partd>=1.4.0 in /usr/local/lib/python3.11/dist-packages (from dask) (1.4.2)\n",
            "Requirement already satisfied: pyyaml>=5.3.1 in /usr/local/lib/python3.11/dist-packages (from dask) (6.0.2)\n",
            "Requirement already satisfied: toolz>=0.10.0 in /usr/local/lib/python3.11/dist-packages (from dask) (1.0.0)\n",
            "Requirement already satisfied: importlib_metadata>=4.13.0 in /usr/local/lib/python3.11/dist-packages (from dask) (8.6.1)\n",
            "Requirement already satisfied: dask-glm>=0.2.0 in /usr/local/lib/python3.11/dist-packages (from dask-ml) (0.3.2)\n",
            "Requirement already satisfied: distributed>=2025.1.0 in /usr/local/lib/python3.11/dist-packages (from dask-ml) (2025.2.0)\n",
            "Requirement already satisfied: multipledispatch>=0.4.9 in /usr/local/lib/python3.11/dist-packages (from dask-ml) (1.0.0)\n",
            "Requirement already satisfied: numba>=0.51.0 in /usr/local/lib/python3.11/dist-packages (from dask-ml) (0.61.0)\n",
            "Requirement already satisfied: scipy in /usr/local/lib/python3.11/dist-packages (from dask-ml) (1.13.1)\n",
            "Requirement already satisfied: joblib>=1.2.0 in /usr/local/lib/python3.11/dist-packages (from scikit-learn) (1.4.2)\n",
            "Requirement already satisfied: threadpoolctl>=3.1.0 in /usr/local/lib/python3.11/dist-packages (from scikit-learn) (3.5.0)\n",
            "Requirement already satisfied: python-dateutil>=2.8.2 in /usr/local/lib/python3.11/dist-packages (from pandas) (2.9.0.post0)\n",
            "Requirement already satisfied: pytz>=2020.1 in /usr/local/lib/python3.11/dist-packages (from pandas) (2025.1)\n",
            "Requirement already satisfied: tzdata>=2022.7 in /usr/local/lib/python3.11/dist-packages (from pandas) (2025.1)\n",
            "Requirement already satisfied: sparse>=0.7.0 in /usr/local/lib/python3.11/dist-packages (from dask-glm>=0.2.0->dask-ml) (0.15.5)\n",
            "Requirement already satisfied: pyarrow>=14.0.1 in /usr/local/lib/python3.11/dist-packages (from dask[array,dataframe]>=2025.1.0->dask-ml) (19.0.1)\n",
            "Requirement already satisfied: jinja2>=2.10.3 in /usr/local/lib/python3.11/dist-packages (from distributed>=2025.1.0->dask-ml) (3.1.5)\n",
            "Requirement already satisfied: locket>=1.0.0 in /usr/local/lib/python3.11/dist-packages (from distributed>=2025.1.0->dask-ml) (1.0.0)\n",
            "Requirement already satisfied: msgpack>=1.0.2 in /usr/local/lib/python3.11/dist-packages (from distributed>=2025.1.0->dask-ml) (1.1.0)\n",
            "Requirement already satisfied: psutil>=5.8.0 in /usr/local/lib/python3.11/dist-packages (from distributed>=2025.1.0->dask-ml) (5.9.5)\n",
            "Requirement already satisfied: sortedcontainers>=2.0.5 in /usr/local/lib/python3.11/dist-packages (from distributed>=2025.1.0->dask-ml) (2.4.0)\n",
            "Requirement already satisfied: tblib>=1.6.0 in /usr/local/lib/python3.11/dist-packages (from distributed>=2025.1.0->dask-ml) (3.0.0)\n",
            "Requirement already satisfied: tornado>=6.2.0 in /usr/local/lib/python3.11/dist-packages (from distributed>=2025.1.0->dask-ml) (6.4.2)\n",
            "Requirement already satisfied: urllib3>=1.26.5 in /usr/local/lib/python3.11/dist-packages (from distributed>=2025.1.0->dask-ml) (2.3.0)\n",
            "Requirement already satisfied: zict>=3.0.0 in /usr/local/lib/python3.11/dist-packages (from distributed>=2025.1.0->dask-ml) (3.0.0)\n",
            "Requirement already satisfied: zipp>=3.20 in /usr/local/lib/python3.11/dist-packages (from importlib_metadata>=4.13.0->dask) (3.21.0)\n",
            "Requirement already satisfied: llvmlite<0.45,>=0.44.0dev0 in /usr/local/lib/python3.11/dist-packages (from numba>=0.51.0->dask-ml) (0.44.0)\n",
            "Requirement already satisfied: six>=1.5 in /usr/local/lib/python3.11/dist-packages (from python-dateutil>=2.8.2->pandas) (1.17.0)\n",
            "Requirement already satisfied: MarkupSafe>=2.0 in /usr/local/lib/python3.11/dist-packages (from jinja2>=2.10.3->distributed>=2025.1.0->dask-ml) (3.0.2)\n",
            "Dataset shape: (11164866, 128)\n",
            "Normalized dataset shape: (11164866, 128)\n",
            "Dataset shape: (11164866, 128)\n",
            "Normalized dataset shape: (11164866, 128)\n",
            "Training and evaluating LogisticRegression...\n"
          ]
        },
        {
          "output_type": "stream",
          "name": "stderr",
          "text": [
            "/usr/local/lib/python3.11/dist-packages/dask_glm/utils.py:66: RuntimeWarning: overflow encountered in exp\n",
            "  return np.exp(A)\n"
          ]
        },
        {
          "output_type": "stream",
          "name": "stdout",
          "text": [
            "Training and evaluating RandomForest...\n",
            "Training and evaluating KMeans...\n",
            "                Model  Accuracy\n",
            "0  LogisticRegression   0.09895\n",
            "1        RandomForest   0.10075\n",
            "2              KMeans   0.10200\n"
          ]
        },
        {
          "output_type": "display_data",
          "data": {
            "text/plain": [
              "<Figure size 1000x600 with 1 Axes>"
            ],
            "image/png": "[encoded data removed]"
          },
          "metadata": {}
        }
      ]
    },
    {
      "cell_type": "code",
      "source": [
        "# Load the results from the CSV file\n",
        "import pandas as pd\n",
        "import matplotlib.pyplot as plt\n",
        "import seaborn as sns\n",
        "\n",
        "# Define file path\n",
        "results_file = \"/content/drive/MyDrive/SIFT10M/model_results.csv\"\n",
        "\n",
        "# Load the results\n",
        "results_df = pd.read_csv(results_file)"
      ],
      "metadata": {
        "id": "fGSjHQboccg8"
      },
      "execution_count": 2,
      "outputs": []
    }
  ]
}